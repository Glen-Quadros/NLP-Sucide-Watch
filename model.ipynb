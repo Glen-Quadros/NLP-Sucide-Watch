{
  "cells": [
    {
      "cell_type": "code",
      "execution_count": null,
      "metadata": {
        "id": "e37sZIAOeEMr"
      },
      "outputs": [],
      "source": [
        "import numpy as np\n",
        "import pandas as pd\n",
        "import seaborn as sns\n",
        "import matplotlib.pyplot as plt"
      ]
    },
    {
      "cell_type": "code",
      "execution_count": null,
      "metadata": {
        "id": "jDa4noYxeM8n"
      },
      "outputs": [],
      "source": [
        "df = pd.read_csv('/content/dataset.csv', encoding='utf-8')"
      ]
    },
    {
      "cell_type": "code",
      "execution_count": null,
      "metadata": {
        "colab": {
          "base_uri": "https://localhost:8080/",
          "height": 204
        },
        "id": "ZtbtuO5YfKoG",
        "outputId": "0c89e242-cbf4-4872-dfb6-dcb27fb3cde8"
      },
      "outputs": [
        {
          "output_type": "execute_result",
          "data": {
            "text/plain": [
              "                                                text  \\\n",
              "0  I recently went through a breakup and she said...   \n",
              "1  I do not know how to navigate these feelings, ...   \n",
              "2  So I have been with my bf for 5 months , and h...   \n",
              "3  I am so exhausted of this. Just when I think I...   \n",
              "4  I have been severly bullied since i was 5 till...   \n",
              "\n",
              "                                       label  \n",
              "0                                Not Sucidal  \n",
              "1                                Not Sucidal  \n",
              "2                                Not Sucidal  \n",
              "3  The text contains references to self-harm  \n",
              "4                                Not Sucidal  "
            ],
            "text/html": [
              "\n",
              "  <div id=\"df-1b2eb186-1e16-428e-8548-4bd11981d824\">\n",
              "    <div class=\"colab-df-container\">\n",
              "      <div>\n",
              "<style scoped>\n",
              "    .dataframe tbody tr th:only-of-type {\n",
              "        vertical-align: middle;\n",
              "    }\n",
              "\n",
              "    .dataframe tbody tr th {\n",
              "        vertical-align: top;\n",
              "    }\n",
              "\n",
              "    .dataframe thead th {\n",
              "        text-align: right;\n",
              "    }\n",
              "</style>\n",
              "<table border=\"1\" class=\"dataframe\">\n",
              "  <thead>\n",
              "    <tr style=\"text-align: right;\">\n",
              "      <th></th>\n",
              "      <th>text</th>\n",
              "      <th>label</th>\n",
              "    </tr>\n",
              "  </thead>\n",
              "  <tbody>\n",
              "    <tr>\n",
              "      <th>0</th>\n",
              "      <td>I recently went through a breakup and she said...</td>\n",
              "      <td>Not Sucidal</td>\n",
              "    </tr>\n",
              "    <tr>\n",
              "      <th>1</th>\n",
              "      <td>I do not know how to navigate these feelings, ...</td>\n",
              "      <td>Not Sucidal</td>\n",
              "    </tr>\n",
              "    <tr>\n",
              "      <th>2</th>\n",
              "      <td>So I have been with my bf for 5 months , and h...</td>\n",
              "      <td>Not Sucidal</td>\n",
              "    </tr>\n",
              "    <tr>\n",
              "      <th>3</th>\n",
              "      <td>I am so exhausted of this. Just when I think I...</td>\n",
              "      <td>The text contains references to self-harm</td>\n",
              "    </tr>\n",
              "    <tr>\n",
              "      <th>4</th>\n",
              "      <td>I have been severly bullied since i was 5 till...</td>\n",
              "      <td>Not Sucidal</td>\n",
              "    </tr>\n",
              "  </tbody>\n",
              "</table>\n",
              "</div>\n",
              "      <button class=\"colab-df-convert\" onclick=\"convertToInteractive('df-1b2eb186-1e16-428e-8548-4bd11981d824')\"\n",
              "              title=\"Convert this dataframe to an interactive table.\"\n",
              "              style=\"display:none;\">\n",
              "        \n",
              "  <svg xmlns=\"http://www.w3.org/2000/svg\" height=\"24px\"viewBox=\"0 0 24 24\"\n",
              "       width=\"24px\">\n",
              "    <path d=\"M0 0h24v24H0V0z\" fill=\"none\"/>\n",
              "    <path d=\"M18.56 5.44l.94 2.06.94-2.06 2.06-.94-2.06-.94-.94-2.06-.94 2.06-2.06.94zm-11 1L8.5 8.5l.94-2.06 2.06-.94-2.06-.94L8.5 2.5l-.94 2.06-2.06.94zm10 10l.94 2.06.94-2.06 2.06-.94-2.06-.94-.94-2.06-.94 2.06-2.06.94z\"/><path d=\"M17.41 7.96l-1.37-1.37c-.4-.4-.92-.59-1.43-.59-.52 0-1.04.2-1.43.59L10.3 9.45l-7.72 7.72c-.78.78-.78 2.05 0 2.83L4 21.41c.39.39.9.59 1.41.59.51 0 1.02-.2 1.41-.59l7.78-7.78 2.81-2.81c.8-.78.8-2.07 0-2.86zM5.41 20L4 18.59l7.72-7.72 1.47 1.35L5.41 20z\"/>\n",
              "  </svg>\n",
              "      </button>\n",
              "      \n",
              "  <style>\n",
              "    .colab-df-container {\n",
              "      display:flex;\n",
              "      flex-wrap:wrap;\n",
              "      gap: 12px;\n",
              "    }\n",
              "\n",
              "    .colab-df-convert {\n",
              "      background-color: #E8F0FE;\n",
              "      border: none;\n",
              "      border-radius: 50%;\n",
              "      cursor: pointer;\n",
              "      display: none;\n",
              "      fill: #1967D2;\n",
              "      height: 32px;\n",
              "      padding: 0 0 0 0;\n",
              "      width: 32px;\n",
              "    }\n",
              "\n",
              "    .colab-df-convert:hover {\n",
              "      background-color: #E2EBFA;\n",
              "      box-shadow: 0px 1px 2px rgba(60, 64, 67, 0.3), 0px 1px 3px 1px rgba(60, 64, 67, 0.15);\n",
              "      fill: #174EA6;\n",
              "    }\n",
              "\n",
              "    [theme=dark] .colab-df-convert {\n",
              "      background-color: #3B4455;\n",
              "      fill: #D2E3FC;\n",
              "    }\n",
              "\n",
              "    [theme=dark] .colab-df-convert:hover {\n",
              "      background-color: #434B5C;\n",
              "      box-shadow: 0px 1px 3px 1px rgba(0, 0, 0, 0.15);\n",
              "      filter: drop-shadow(0px 1px 2px rgba(0, 0, 0, 0.3));\n",
              "      fill: #FFFFFF;\n",
              "    }\n",
              "  </style>\n",
              "\n",
              "      <script>\n",
              "        const buttonEl =\n",
              "          document.querySelector('#df-1b2eb186-1e16-428e-8548-4bd11981d824 button.colab-df-convert');\n",
              "        buttonEl.style.display =\n",
              "          google.colab.kernel.accessAllowed ? 'block' : 'none';\n",
              "\n",
              "        async function convertToInteractive(key) {\n",
              "          const element = document.querySelector('#df-1b2eb186-1e16-428e-8548-4bd11981d824');\n",
              "          const dataTable =\n",
              "            await google.colab.kernel.invokeFunction('convertToInteractive',\n",
              "                                                     [key], {});\n",
              "          if (!dataTable) return;\n",
              "\n",
              "          const docLinkHtml = 'Like what you see? Visit the ' +\n",
              "            '<a target=\"_blank\" href=https://colab.research.google.com/notebooks/data_table.ipynb>data table notebook</a>'\n",
              "            + ' to learn more about interactive tables.';\n",
              "          element.innerHTML = '';\n",
              "          dataTable['output_type'] = 'display_data';\n",
              "          await google.colab.output.renderOutput(dataTable, element);\n",
              "          const docLink = document.createElement('div');\n",
              "          docLink.innerHTML = docLinkHtml;\n",
              "          element.appendChild(docLink);\n",
              "        }\n",
              "      </script>\n",
              "    </div>\n",
              "  </div>\n",
              "  "
            ]
          },
          "metadata": {},
          "execution_count": 3
        }
      ],
      "source": [
        "df.head()"
      ]
    },
    {
      "cell_type": "code",
      "execution_count": null,
      "metadata": {
        "id": "4sckCc4hfL3w"
      },
      "outputs": [],
      "source": [
        "import spacy"
      ]
    },
    {
      "cell_type": "code",
      "execution_count": null,
      "metadata": {
        "id": "e9q1VN59fROQ"
      },
      "outputs": [],
      "source": [
        "nlp = spacy.load(\"en_core_web_sm\")"
      ]
    },
    {
      "cell_type": "code",
      "execution_count": null,
      "metadata": {
        "id": "7czexoEZfYMc"
      },
      "outputs": [],
      "source": [
        "def preprocess_text(text):\n",
        "    doc = nlp(text)\n",
        "    return \" \".join([token.lemma_ for token in doc if not token.is_stop and not token.is_punct])"
      ]
    },
    {
      "cell_type": "code",
      "execution_count": null,
      "metadata": {
        "id": "YtKh07xPfdPb"
      },
      "outputs": [],
      "source": [
        "X = df[\"text\"]\n",
        "y = df[\"label\"]"
      ]
    },
    {
      "cell_type": "code",
      "execution_count": null,
      "metadata": {
        "id": "wGGC-FGIfhM7"
      },
      "outputs": [],
      "source": [
        "from sklearn.model_selection import train_test_split"
      ]
    },
    {
      "cell_type": "code",
      "execution_count": null,
      "metadata": {
        "id": "-L4wknNAfnwD"
      },
      "outputs": [],
      "source": [
        "X_train, X_test, y_train, y_test = train_test_split(X, y, test_size=0.3, random_state=101)"
      ]
    },
    {
      "cell_type": "code",
      "execution_count": null,
      "metadata": {
        "id": "EMMC2EYYfx9p"
      },
      "outputs": [],
      "source": [
        "X_train = X_train.apply(preprocess_text)\n",
        "X_test = X_test.apply(preprocess_text)"
      ]
    },
    {
      "cell_type": "code",
      "execution_count": null,
      "metadata": {
        "id": "Ay1TrSTqf0Ll"
      },
      "outputs": [],
      "source": [
        "from sklearn.feature_extraction.text import CountVectorizer"
      ]
    },
    {
      "cell_type": "code",
      "execution_count": null,
      "metadata": {
        "id": "u_FDeMfUhBnQ"
      },
      "outputs": [],
      "source": [
        "vectorizer = CountVectorizer()\n",
        "X_train = vectorizer.fit_transform(X_train)\n",
        "X_test = vectorizer.transform(X_test)"
      ]
    },
    {
      "cell_type": "code",
      "execution_count": null,
      "metadata": {
        "id": "RkNjQ6nmjDRX"
      },
      "outputs": [],
      "source": [
        "from sklearn.svm import SVC"
      ]
    },
    {
      "cell_type": "code",
      "execution_count": null,
      "metadata": {
        "id": "hP22nNqpjQsM"
      },
      "outputs": [],
      "source": [
        "svc = SVC()"
      ]
    },
    {
      "cell_type": "code",
      "execution_count": null,
      "metadata": {
        "id": "FOCwyrqHmaI9"
      },
      "outputs": [],
      "source": [
        "from sklearn.model_selection import GridSearchCV"
      ]
    },
    {
      "cell_type": "code",
      "execution_count": null,
      "metadata": {
        "id": "oXEzvJ05mdEc"
      },
      "outputs": [],
      "source": [
        "param_grid = {'C': [0.1, 1, 10, 100, 1000], \n",
        "              'gamma': [1, 0.1, 0.01, 0.001, 0.0001],\n",
        "              'kernel': ['rbf']} "
      ]
    },
    {
      "cell_type": "code",
      "execution_count": null,
      "metadata": {
        "id": "8ZFAGpE_mgGh"
      },
      "outputs": [],
      "source": [
        "grid = GridSearchCV(SVC(), param_grid, refit = True, verbose = 3)"
      ]
    },
    {
      "cell_type": "code",
      "execution_count": null,
      "metadata": {
        "colab": {
          "base_uri": "https://localhost:8080/",
          "height": 1000
        },
        "id": "hq97jSgIjVf6",
        "outputId": "ef101ff4-d72d-4241-8155-5d57508901c6"
      },
      "outputs": [
        {
          "output_type": "stream",
          "name": "stdout",
          "text": [
            "Fitting 5 folds for each of 25 candidates, totalling 125 fits\n",
            "[CV 1/5] END ........C=0.1, gamma=1, kernel=rbf;, score=0.512 total time= 2.5min\n",
            "[CV 2/5] END ........C=0.1, gamma=1, kernel=rbf;, score=0.512 total time= 2.5min\n",
            "[CV 3/5] END ........C=0.1, gamma=1, kernel=rbf;, score=0.512 total time= 2.5min\n",
            "[CV 4/5] END ........C=0.1, gamma=1, kernel=rbf;, score=0.512 total time= 2.5min\n",
            "[CV 5/5] END ........C=0.1, gamma=1, kernel=rbf;, score=0.512 total time= 2.5min\n",
            "[CV 1/5] END ......C=0.1, gamma=0.1, kernel=rbf;, score=0.569 total time= 1.7min\n",
            "[CV 2/5] END ......C=0.1, gamma=0.1, kernel=rbf;, score=0.560 total time= 1.7min\n",
            "[CV 3/5] END ......C=0.1, gamma=0.1, kernel=rbf;, score=0.557 total time= 1.7min\n",
            "[CV 4/5] END ......C=0.1, gamma=0.1, kernel=rbf;, score=0.556 total time= 1.7min\n",
            "[CV 5/5] END ......C=0.1, gamma=0.1, kernel=rbf;, score=0.550 total time= 1.7min\n",
            "[CV 1/5] END .....C=0.1, gamma=0.01, kernel=rbf;, score=0.688 total time= 1.3min\n",
            "[CV 2/5] END .....C=0.1, gamma=0.01, kernel=rbf;, score=0.673 total time= 1.3min\n",
            "[CV 3/5] END .....C=0.1, gamma=0.01, kernel=rbf;, score=0.660 total time= 1.3min\n",
            "[CV 4/5] END .....C=0.1, gamma=0.01, kernel=rbf;, score=0.673 total time= 1.3min\n",
            "[CV 5/5] END .....C=0.1, gamma=0.01, kernel=rbf;, score=0.667 total time= 1.3min\n",
            "[CV 1/5] END ....C=0.1, gamma=0.001, kernel=rbf;, score=0.647 total time= 1.3min\n",
            "[CV 2/5] END ....C=0.1, gamma=0.001, kernel=rbf;, score=0.627 total time= 1.3min\n",
            "[CV 3/5] END ....C=0.1, gamma=0.001, kernel=rbf;, score=0.635 total time= 1.3min\n",
            "[CV 4/5] END ....C=0.1, gamma=0.001, kernel=rbf;, score=0.644 total time= 1.3min\n",
            "[CV 5/5] END ....C=0.1, gamma=0.001, kernel=rbf;, score=0.640 total time= 1.3min\n",
            "[CV 1/5] END ...C=0.1, gamma=0.0001, kernel=rbf;, score=0.512 total time= 1.4min\n",
            "[CV 2/5] END ...C=0.1, gamma=0.0001, kernel=rbf;, score=0.512 total time= 1.4min\n",
            "[CV 3/5] END ...C=0.1, gamma=0.0001, kernel=rbf;, score=0.512 total time= 1.4min\n",
            "[CV 4/5] END ...C=0.1, gamma=0.0001, kernel=rbf;, score=0.512 total time= 1.4min\n",
            "[CV 5/5] END ...C=0.1, gamma=0.0001, kernel=rbf;, score=0.512 total time= 1.4min\n",
            "[CV 1/5] END ..........C=1, gamma=1, kernel=rbf;, score=0.520 total time= 3.2min\n",
            "[CV 2/5] END ..........C=1, gamma=1, kernel=rbf;, score=0.521 total time= 3.2min\n",
            "[CV 3/5] END ..........C=1, gamma=1, kernel=rbf;, score=0.524 total time= 3.2min\n",
            "[CV 4/5] END ..........C=1, gamma=1, kernel=rbf;, score=0.522 total time= 3.2min\n",
            "[CV 5/5] END ..........C=1, gamma=1, kernel=rbf;, score=0.518 total time= 3.2min\n",
            "[CV 1/5] END ........C=1, gamma=0.1, kernel=rbf;, score=0.614 total time= 3.0min\n",
            "[CV 2/5] END ........C=1, gamma=0.1, kernel=rbf;, score=0.617 total time= 3.2min\n",
            "[CV 3/5] END ........C=1, gamma=0.1, kernel=rbf;, score=0.615 total time= 3.2min\n",
            "[CV 4/5] END ........C=1, gamma=0.1, kernel=rbf;, score=0.608 total time= 3.1min\n",
            "[CV 5/5] END ........C=1, gamma=0.1, kernel=rbf;, score=0.604 total time= 3.1min\n",
            "[CV 1/5] END .......C=1, gamma=0.01, kernel=rbf;, score=0.725 total time= 1.2min\n",
            "[CV 2/5] END .......C=1, gamma=0.01, kernel=rbf;, score=0.722 total time= 1.2min\n",
            "[CV 3/5] END .......C=1, gamma=0.01, kernel=rbf;, score=0.726 total time= 1.2min\n",
            "[CV 4/5] END .......C=1, gamma=0.01, kernel=rbf;, score=0.717 total time= 1.2min\n",
            "[CV 5/5] END .......C=1, gamma=0.01, kernel=rbf;, score=0.707 total time= 1.2min\n",
            "[CV 1/5] END ......C=1, gamma=0.001, kernel=rbf;, score=0.717 total time= 1.1min\n",
            "[CV 2/5] END ......C=1, gamma=0.001, kernel=rbf;, score=0.708 total time= 1.1min\n",
            "[CV 3/5] END ......C=1, gamma=0.001, kernel=rbf;, score=0.715 total time= 1.1min\n",
            "[CV 4/5] END ......C=1, gamma=0.001, kernel=rbf;, score=0.709 total time= 1.1min\n",
            "[CV 5/5] END ......C=1, gamma=0.001, kernel=rbf;, score=0.708 total time= 1.1min\n",
            "[CV 1/5] END .....C=1, gamma=0.0001, kernel=rbf;, score=0.664 total time= 1.3min\n",
            "[CV 2/5] END .....C=1, gamma=0.0001, kernel=rbf;, score=0.642 total time= 1.3min\n",
            "[CV 3/5] END .....C=1, gamma=0.0001, kernel=rbf;, score=0.649 total time= 1.3min\n",
            "[CV 4/5] END .....C=1, gamma=0.0001, kernel=rbf;, score=0.662 total time= 1.3min\n",
            "[CV 5/5] END .....C=1, gamma=0.0001, kernel=rbf;, score=0.650 total time= 1.3min\n",
            "[CV 1/5] END .........C=10, gamma=1, kernel=rbf;, score=0.522 total time= 5.3min\n",
            "[CV 2/5] END .........C=10, gamma=1, kernel=rbf;, score=0.523 total time= 4.9min\n",
            "[CV 3/5] END .........C=10, gamma=1, kernel=rbf;, score=0.524 total time= 4.8min\n",
            "[CV 4/5] END .........C=10, gamma=1, kernel=rbf;, score=0.523 total time= 4.8min\n",
            "[CV 5/5] END .........C=10, gamma=1, kernel=rbf;, score=0.519 total time= 5.2min\n",
            "[CV 1/5] END .......C=10, gamma=0.1, kernel=rbf;, score=0.608 total time= 4.5min\n",
            "[CV 2/5] END .......C=10, gamma=0.1, kernel=rbf;, score=0.610 total time= 4.7min\n",
            "[CV 3/5] END .......C=10, gamma=0.1, kernel=rbf;, score=0.616 total time= 4.8min\n",
            "[CV 4/5] END .......C=10, gamma=0.1, kernel=rbf;, score=0.615 total time= 4.5min\n",
            "[CV 5/5] END .......C=10, gamma=0.1, kernel=rbf;, score=0.596 total time= 4.8min\n",
            "[CV 1/5] END ......C=10, gamma=0.01, kernel=rbf;, score=0.703 total time= 3.2min\n",
            "[CV 2/5] END ......C=10, gamma=0.01, kernel=rbf;, score=0.693 total time= 3.2min\n",
            "[CV 3/5] END ......C=10, gamma=0.01, kernel=rbf;, score=0.703 total time= 3.2min\n",
            "[CV 4/5] END ......C=10, gamma=0.01, kernel=rbf;, score=0.698 total time= 3.2min\n",
            "[CV 5/5] END ......C=10, gamma=0.01, kernel=rbf;, score=0.685 total time= 3.1min\n",
            "[CV 1/5] END .....C=10, gamma=0.001, kernel=rbf;, score=0.724 total time= 1.0min\n",
            "[CV 2/5] END .....C=10, gamma=0.001, kernel=rbf;, score=0.727 total time= 1.0min\n",
            "[CV 3/5] END .....C=10, gamma=0.001, kernel=rbf;, score=0.720 total time= 1.0min\n",
            "[CV 4/5] END .....C=10, gamma=0.001, kernel=rbf;, score=0.715 total time= 1.0min\n",
            "[CV 5/5] END .....C=10, gamma=0.001, kernel=rbf;, score=0.715 total time= 1.0min\n",
            "[CV 1/5] END ....C=10, gamma=0.0001, kernel=rbf;, score=0.717 total time= 1.1min\n",
            "[CV 2/5] END ....C=10, gamma=0.0001, kernel=rbf;, score=0.717 total time= 1.1min\n",
            "[CV 3/5] END ....C=10, gamma=0.0001, kernel=rbf;, score=0.717 total time= 1.1min\n",
            "[CV 4/5] END ....C=10, gamma=0.0001, kernel=rbf;, score=0.708 total time= 1.1min\n",
            "[CV 5/5] END ....C=10, gamma=0.0001, kernel=rbf;, score=0.713 total time= 1.1min\n",
            "[CV 1/5] END ........C=100, gamma=1, kernel=rbf;, score=0.522 total time= 5.3min\n",
            "[CV 2/5] END ........C=100, gamma=1, kernel=rbf;, score=0.523 total time= 5.0min\n",
            "[CV 3/5] END ........C=100, gamma=1, kernel=rbf;, score=0.524 total time= 4.9min\n",
            "[CV 4/5] END ........C=100, gamma=1, kernel=rbf;, score=0.523 total time= 4.9min\n",
            "[CV 5/5] END ........C=100, gamma=1, kernel=rbf;, score=0.519 total time= 5.2min\n",
            "[CV 1/5] END ......C=100, gamma=0.1, kernel=rbf;, score=0.606 total time= 4.6min\n",
            "[CV 2/5] END ......C=100, gamma=0.1, kernel=rbf;, score=0.612 total time= 4.5min\n",
            "[CV 3/5] END ......C=100, gamma=0.1, kernel=rbf;, score=0.617 total time= 4.6min\n",
            "[CV 4/5] END ......C=100, gamma=0.1, kernel=rbf;, score=0.612 total time= 4.5min\n",
            "[CV 5/5] END ......C=100, gamma=0.1, kernel=rbf;, score=0.598 total time= 4.8min\n",
            "[CV 1/5] END .....C=100, gamma=0.01, kernel=rbf;, score=0.666 total time= 3.7min\n",
            "[CV 2/5] END .....C=100, gamma=0.01, kernel=rbf;, score=0.666 total time= 3.8min\n",
            "[CV 3/5] END .....C=100, gamma=0.01, kernel=rbf;, score=0.674 total time= 3.7min\n",
            "[CV 4/5] END .....C=100, gamma=0.01, kernel=rbf;, score=0.671 total time= 3.6min\n",
            "[CV 5/5] END .....C=100, gamma=0.01, kernel=rbf;, score=0.653 total time= 3.7min\n",
            "[CV 1/5] END ....C=100, gamma=0.001, kernel=rbf;, score=0.699 total time= 1.6min\n",
            "[CV 2/5] END ....C=100, gamma=0.001, kernel=rbf;, score=0.695 total time= 1.6min\n",
            "[CV 3/5] END ....C=100, gamma=0.001, kernel=rbf;, score=0.701 total time= 1.6min\n",
            "[CV 4/5] END ....C=100, gamma=0.001, kernel=rbf;, score=0.697 total time= 1.6min\n",
            "[CV 5/5] END ....C=100, gamma=0.001, kernel=rbf;, score=0.682 total time= 1.6min\n",
            "[CV 1/5] END ...C=100, gamma=0.0001, kernel=rbf;, score=0.723 total time= 1.0min\n",
            "[CV 2/5] END ...C=100, gamma=0.0001, kernel=rbf;, score=0.720 total time= 1.0min\n",
            "[CV 3/5] END ...C=100, gamma=0.0001, kernel=rbf;, score=0.717 total time= 1.0min\n",
            "[CV 4/5] END ...C=100, gamma=0.0001, kernel=rbf;, score=0.711 total time= 1.0min\n",
            "[CV 5/5] END ...C=100, gamma=0.0001, kernel=rbf;, score=0.715 total time= 1.0min\n",
            "[CV 1/5] END .......C=1000, gamma=1, kernel=rbf;, score=0.522 total time= 5.3min\n",
            "[CV 2/5] END .......C=1000, gamma=1, kernel=rbf;, score=0.523 total time= 5.0min\n",
            "[CV 3/5] END .......C=1000, gamma=1, kernel=rbf;, score=0.524 total time= 4.8min\n",
            "[CV 4/5] END .......C=1000, gamma=1, kernel=rbf;, score=0.523 total time= 4.9min\n",
            "[CV 5/5] END .......C=1000, gamma=1, kernel=rbf;, score=0.519 total time= 5.2min\n",
            "[CV 1/5] END .....C=1000, gamma=0.1, kernel=rbf;, score=0.606 total time= 4.6min\n",
            "[CV 2/5] END .....C=1000, gamma=0.1, kernel=rbf;, score=0.612 total time= 4.6min\n",
            "[CV 3/5] END .....C=1000, gamma=0.1, kernel=rbf;, score=0.616 total time= 4.5min\n",
            "[CV 4/5] END .....C=1000, gamma=0.1, kernel=rbf;, score=0.613 total time= 4.5min\n",
            "[CV 5/5] END .....C=1000, gamma=0.1, kernel=rbf;, score=0.596 total time= 4.8min\n",
            "[CV 1/5] END ....C=1000, gamma=0.01, kernel=rbf;, score=0.646 total time= 3.4min\n",
            "[CV 2/5] END ....C=1000, gamma=0.01, kernel=rbf;, score=0.645 total time= 3.4min\n",
            "[CV 3/5] END ....C=1000, gamma=0.01, kernel=rbf;, score=0.657 total time= 3.4min\n",
            "[CV 4/5] END ....C=1000, gamma=0.01, kernel=rbf;, score=0.658 total time= 3.4min\n",
            "[CV 5/5] END ....C=1000, gamma=0.01, kernel=rbf;, score=0.635 total time= 3.4min\n",
            "[CV 1/5] END ...C=1000, gamma=0.001, kernel=rbf;, score=0.662 total time= 3.1min\n",
            "[CV 2/5] END ...C=1000, gamma=0.001, kernel=rbf;, score=0.661 total time= 3.1min\n",
            "[CV 3/5] END ...C=1000, gamma=0.001, kernel=rbf;, score=0.651 total time= 3.1min\n",
            "[CV 4/5] END ...C=1000, gamma=0.001, kernel=rbf;, score=0.665 total time= 3.1min\n",
            "[CV 5/5] END ...C=1000, gamma=0.001, kernel=rbf;, score=0.656 total time= 3.1min\n",
            "[CV 1/5] END ..C=1000, gamma=0.0001, kernel=rbf;, score=0.701 total time= 1.6min\n",
            "[CV 2/5] END ..C=1000, gamma=0.0001, kernel=rbf;, score=0.694 total time= 1.6min\n",
            "[CV 3/5] END ..C=1000, gamma=0.0001, kernel=rbf;, score=0.692 total time= 1.6min\n",
            "[CV 4/5] END ..C=1000, gamma=0.0001, kernel=rbf;, score=0.696 total time= 1.6min\n",
            "[CV 5/5] END ..C=1000, gamma=0.0001, kernel=rbf;, score=0.698 total time= 1.6min\n"
          ]
        },
        {
          "output_type": "execute_result",
          "data": {
            "text/plain": [
              "GridSearchCV(estimator=SVC(),\n",
              "             param_grid={'C': [0.1, 1, 10, 100, 1000],\n",
              "                         'gamma': [1, 0.1, 0.01, 0.001, 0.0001],\n",
              "                         'kernel': ['rbf']},\n",
              "             verbose=3)"
            ],
            "text/html": [
              "<style>#sk-container-id-1 {color: black;background-color: white;}#sk-container-id-1 pre{padding: 0;}#sk-container-id-1 div.sk-toggleable {background-color: white;}#sk-container-id-1 label.sk-toggleable__label {cursor: pointer;display: block;width: 100%;margin-bottom: 0;padding: 0.3em;box-sizing: border-box;text-align: center;}#sk-container-id-1 label.sk-toggleable__label-arrow:before {content: \"▸\";float: left;margin-right: 0.25em;color: #696969;}#sk-container-id-1 label.sk-toggleable__label-arrow:hover:before {color: black;}#sk-container-id-1 div.sk-estimator:hover label.sk-toggleable__label-arrow:before {color: black;}#sk-container-id-1 div.sk-toggleable__content {max-height: 0;max-width: 0;overflow: hidden;text-align: left;background-color: #f0f8ff;}#sk-container-id-1 div.sk-toggleable__content pre {margin: 0.2em;color: black;border-radius: 0.25em;background-color: #f0f8ff;}#sk-container-id-1 input.sk-toggleable__control:checked~div.sk-toggleable__content {max-height: 200px;max-width: 100%;overflow: auto;}#sk-container-id-1 input.sk-toggleable__control:checked~label.sk-toggleable__label-arrow:before {content: \"▾\";}#sk-container-id-1 div.sk-estimator input.sk-toggleable__control:checked~label.sk-toggleable__label {background-color: #d4ebff;}#sk-container-id-1 div.sk-label input.sk-toggleable__control:checked~label.sk-toggleable__label {background-color: #d4ebff;}#sk-container-id-1 input.sk-hidden--visually {border: 0;clip: rect(1px 1px 1px 1px);clip: rect(1px, 1px, 1px, 1px);height: 1px;margin: -1px;overflow: hidden;padding: 0;position: absolute;width: 1px;}#sk-container-id-1 div.sk-estimator {font-family: monospace;background-color: #f0f8ff;border: 1px dotted black;border-radius: 0.25em;box-sizing: border-box;margin-bottom: 0.5em;}#sk-container-id-1 div.sk-estimator:hover {background-color: #d4ebff;}#sk-container-id-1 div.sk-parallel-item::after {content: \"\";width: 100%;border-bottom: 1px solid gray;flex-grow: 1;}#sk-container-id-1 div.sk-label:hover label.sk-toggleable__label {background-color: #d4ebff;}#sk-container-id-1 div.sk-serial::before {content: \"\";position: absolute;border-left: 1px solid gray;box-sizing: border-box;top: 0;bottom: 0;left: 50%;z-index: 0;}#sk-container-id-1 div.sk-serial {display: flex;flex-direction: column;align-items: center;background-color: white;padding-right: 0.2em;padding-left: 0.2em;position: relative;}#sk-container-id-1 div.sk-item {position: relative;z-index: 1;}#sk-container-id-1 div.sk-parallel {display: flex;align-items: stretch;justify-content: center;background-color: white;position: relative;}#sk-container-id-1 div.sk-item::before, #sk-container-id-1 div.sk-parallel-item::before {content: \"\";position: absolute;border-left: 1px solid gray;box-sizing: border-box;top: 0;bottom: 0;left: 50%;z-index: -1;}#sk-container-id-1 div.sk-parallel-item {display: flex;flex-direction: column;z-index: 1;position: relative;background-color: white;}#sk-container-id-1 div.sk-parallel-item:first-child::after {align-self: flex-end;width: 50%;}#sk-container-id-1 div.sk-parallel-item:last-child::after {align-self: flex-start;width: 50%;}#sk-container-id-1 div.sk-parallel-item:only-child::after {width: 0;}#sk-container-id-1 div.sk-dashed-wrapped {border: 1px dashed gray;margin: 0 0.4em 0.5em 0.4em;box-sizing: border-box;padding-bottom: 0.4em;background-color: white;}#sk-container-id-1 div.sk-label label {font-family: monospace;font-weight: bold;display: inline-block;line-height: 1.2em;}#sk-container-id-1 div.sk-label-container {text-align: center;}#sk-container-id-1 div.sk-container {/* jupyter's `normalize.less` sets `[hidden] { display: none; }` but bootstrap.min.css set `[hidden] { display: none !important; }` so we also need the `!important` here to be able to override the default hidden behavior on the sphinx rendered scikit-learn.org. See: https://github.com/scikit-learn/scikit-learn/issues/21755 */display: inline-block !important;position: relative;}#sk-container-id-1 div.sk-text-repr-fallback {display: none;}</style><div id=\"sk-container-id-1\" class=\"sk-top-container\"><div class=\"sk-text-repr-fallback\"><pre>GridSearchCV(estimator=SVC(),\n",
              "             param_grid={&#x27;C&#x27;: [0.1, 1, 10, 100, 1000],\n",
              "                         &#x27;gamma&#x27;: [1, 0.1, 0.01, 0.001, 0.0001],\n",
              "                         &#x27;kernel&#x27;: [&#x27;rbf&#x27;]},\n",
              "             verbose=3)</pre><b>In a Jupyter environment, please rerun this cell to show the HTML representation or trust the notebook. <br />On GitHub, the HTML representation is unable to render, please try loading this page with nbviewer.org.</b></div><div class=\"sk-container\" hidden><div class=\"sk-item sk-dashed-wrapped\"><div class=\"sk-label-container\"><div class=\"sk-label sk-toggleable\"><input class=\"sk-toggleable__control sk-hidden--visually\" id=\"sk-estimator-id-1\" type=\"checkbox\" ><label for=\"sk-estimator-id-1\" class=\"sk-toggleable__label sk-toggleable__label-arrow\">GridSearchCV</label><div class=\"sk-toggleable__content\"><pre>GridSearchCV(estimator=SVC(),\n",
              "             param_grid={&#x27;C&#x27;: [0.1, 1, 10, 100, 1000],\n",
              "                         &#x27;gamma&#x27;: [1, 0.1, 0.01, 0.001, 0.0001],\n",
              "                         &#x27;kernel&#x27;: [&#x27;rbf&#x27;]},\n",
              "             verbose=3)</pre></div></div></div><div class=\"sk-parallel\"><div class=\"sk-parallel-item\"><div class=\"sk-item\"><div class=\"sk-label-container\"><div class=\"sk-label sk-toggleable\"><input class=\"sk-toggleable__control sk-hidden--visually\" id=\"sk-estimator-id-2\" type=\"checkbox\" ><label for=\"sk-estimator-id-2\" class=\"sk-toggleable__label sk-toggleable__label-arrow\">estimator: SVC</label><div class=\"sk-toggleable__content\"><pre>SVC()</pre></div></div></div><div class=\"sk-serial\"><div class=\"sk-item\"><div class=\"sk-estimator sk-toggleable\"><input class=\"sk-toggleable__control sk-hidden--visually\" id=\"sk-estimator-id-3\" type=\"checkbox\" ><label for=\"sk-estimator-id-3\" class=\"sk-toggleable__label sk-toggleable__label-arrow\">SVC</label><div class=\"sk-toggleable__content\"><pre>SVC()</pre></div></div></div></div></div></div></div></div></div></div>"
            ]
          },
          "metadata": {},
          "execution_count": 18
        }
      ],
      "source": [
        "grid.fit(X_train, y_train)"
      ]
    },
    {
      "cell_type": "code",
      "source": [
        "print(grid.best_params_)"
      ],
      "metadata": {
        "colab": {
          "base_uri": "https://localhost:8080/"
        },
        "id": "CQ7PZgeUbq9Q",
        "outputId": "692c79a6-b3b6-4726-ae25-6cb56872d309"
      },
      "execution_count": null,
      "outputs": [
        {
          "output_type": "stream",
          "name": "stdout",
          "text": [
            "{'C': 10, 'gamma': 0.001, 'kernel': 'rbf'}\n"
          ]
        }
      ]
    },
    {
      "cell_type": "code",
      "source": [
        "final_model = SVC(C=10, gamma=0.001, kernel='rbf')"
      ],
      "metadata": {
        "id": "Az6o9XMzbzf8"
      },
      "execution_count": null,
      "outputs": []
    },
    {
      "cell_type": "code",
      "source": [
        "final_model.fit(X_train, y_train)"
      ],
      "metadata": {
        "colab": {
          "base_uri": "https://localhost:8080/",
          "height": 74
        },
        "id": "ltxWb2Dgb71N",
        "outputId": "df28beb5-78c9-492c-d3be-ad667f5becb1"
      },
      "execution_count": null,
      "outputs": [
        {
          "output_type": "execute_result",
          "data": {
            "text/plain": [
              "SVC(C=10, gamma=0.001)"
            ],
            "text/html": [
              "<style>#sk-container-id-2 {color: black;background-color: white;}#sk-container-id-2 pre{padding: 0;}#sk-container-id-2 div.sk-toggleable {background-color: white;}#sk-container-id-2 label.sk-toggleable__label {cursor: pointer;display: block;width: 100%;margin-bottom: 0;padding: 0.3em;box-sizing: border-box;text-align: center;}#sk-container-id-2 label.sk-toggleable__label-arrow:before {content: \"▸\";float: left;margin-right: 0.25em;color: #696969;}#sk-container-id-2 label.sk-toggleable__label-arrow:hover:before {color: black;}#sk-container-id-2 div.sk-estimator:hover label.sk-toggleable__label-arrow:before {color: black;}#sk-container-id-2 div.sk-toggleable__content {max-height: 0;max-width: 0;overflow: hidden;text-align: left;background-color: #f0f8ff;}#sk-container-id-2 div.sk-toggleable__content pre {margin: 0.2em;color: black;border-radius: 0.25em;background-color: #f0f8ff;}#sk-container-id-2 input.sk-toggleable__control:checked~div.sk-toggleable__content {max-height: 200px;max-width: 100%;overflow: auto;}#sk-container-id-2 input.sk-toggleable__control:checked~label.sk-toggleable__label-arrow:before {content: \"▾\";}#sk-container-id-2 div.sk-estimator input.sk-toggleable__control:checked~label.sk-toggleable__label {background-color: #d4ebff;}#sk-container-id-2 div.sk-label input.sk-toggleable__control:checked~label.sk-toggleable__label {background-color: #d4ebff;}#sk-container-id-2 input.sk-hidden--visually {border: 0;clip: rect(1px 1px 1px 1px);clip: rect(1px, 1px, 1px, 1px);height: 1px;margin: -1px;overflow: hidden;padding: 0;position: absolute;width: 1px;}#sk-container-id-2 div.sk-estimator {font-family: monospace;background-color: #f0f8ff;border: 1px dotted black;border-radius: 0.25em;box-sizing: border-box;margin-bottom: 0.5em;}#sk-container-id-2 div.sk-estimator:hover {background-color: #d4ebff;}#sk-container-id-2 div.sk-parallel-item::after {content: \"\";width: 100%;border-bottom: 1px solid gray;flex-grow: 1;}#sk-container-id-2 div.sk-label:hover label.sk-toggleable__label {background-color: #d4ebff;}#sk-container-id-2 div.sk-serial::before {content: \"\";position: absolute;border-left: 1px solid gray;box-sizing: border-box;top: 0;bottom: 0;left: 50%;z-index: 0;}#sk-container-id-2 div.sk-serial {display: flex;flex-direction: column;align-items: center;background-color: white;padding-right: 0.2em;padding-left: 0.2em;position: relative;}#sk-container-id-2 div.sk-item {position: relative;z-index: 1;}#sk-container-id-2 div.sk-parallel {display: flex;align-items: stretch;justify-content: center;background-color: white;position: relative;}#sk-container-id-2 div.sk-item::before, #sk-container-id-2 div.sk-parallel-item::before {content: \"\";position: absolute;border-left: 1px solid gray;box-sizing: border-box;top: 0;bottom: 0;left: 50%;z-index: -1;}#sk-container-id-2 div.sk-parallel-item {display: flex;flex-direction: column;z-index: 1;position: relative;background-color: white;}#sk-container-id-2 div.sk-parallel-item:first-child::after {align-self: flex-end;width: 50%;}#sk-container-id-2 div.sk-parallel-item:last-child::after {align-self: flex-start;width: 50%;}#sk-container-id-2 div.sk-parallel-item:only-child::after {width: 0;}#sk-container-id-2 div.sk-dashed-wrapped {border: 1px dashed gray;margin: 0 0.4em 0.5em 0.4em;box-sizing: border-box;padding-bottom: 0.4em;background-color: white;}#sk-container-id-2 div.sk-label label {font-family: monospace;font-weight: bold;display: inline-block;line-height: 1.2em;}#sk-container-id-2 div.sk-label-container {text-align: center;}#sk-container-id-2 div.sk-container {/* jupyter's `normalize.less` sets `[hidden] { display: none; }` but bootstrap.min.css set `[hidden] { display: none !important; }` so we also need the `!important` here to be able to override the default hidden behavior on the sphinx rendered scikit-learn.org. See: https://github.com/scikit-learn/scikit-learn/issues/21755 */display: inline-block !important;position: relative;}#sk-container-id-2 div.sk-text-repr-fallback {display: none;}</style><div id=\"sk-container-id-2\" class=\"sk-top-container\"><div class=\"sk-text-repr-fallback\"><pre>SVC(C=10, gamma=0.001)</pre><b>In a Jupyter environment, please rerun this cell to show the HTML representation or trust the notebook. <br />On GitHub, the HTML representation is unable to render, please try loading this page with nbviewer.org.</b></div><div class=\"sk-container\" hidden><div class=\"sk-item\"><div class=\"sk-estimator sk-toggleable\"><input class=\"sk-toggleable__control sk-hidden--visually\" id=\"sk-estimator-id-4\" type=\"checkbox\" checked><label for=\"sk-estimator-id-4\" class=\"sk-toggleable__label sk-toggleable__label-arrow\">SVC</label><div class=\"sk-toggleable__content\"><pre>SVC(C=10, gamma=0.001)</pre></div></div></div></div></div>"
            ]
          },
          "metadata": {},
          "execution_count": 24
        }
      ]
    },
    {
      "cell_type": "code",
      "source": [
        "y_preds = final_model.predict(X_test)"
      ],
      "metadata": {
        "id": "qCHiWe3acHjb"
      },
      "execution_count": null,
      "outputs": []
    },
    {
      "cell_type": "code",
      "source": [
        "from sklearn.metrics import classification_report, confusion_matrix, accuracy_score"
      ],
      "metadata": {
        "id": "x0oPLMbacjTY"
      },
      "execution_count": null,
      "outputs": []
    },
    {
      "cell_type": "code",
      "source": [
        "print(classification_report(y_test, y_preds,))"
      ],
      "metadata": {
        "colab": {
          "base_uri": "https://localhost:8080/"
        },
        "id": "7X-kRU15cq35",
        "outputId": "dcae7279-6c9d-4bc0-89e9-306a0d59b07c"
      },
      "execution_count": null,
      "outputs": [
        {
          "output_type": "stream",
          "name": "stdout",
          "text": [
            "                                           precision    recall  f1-score   support\n",
            "\n",
            "                              Not Sucidal       0.75      0.66      0.70      3073\n",
            "The text contains references to self-harm       0.69      0.77      0.73      3036\n",
            "\n",
            "                                 accuracy                           0.71      6109\n",
            "                                macro avg       0.72      0.72      0.71      6109\n",
            "                             weighted avg       0.72      0.71      0.71      6109\n",
            "\n"
          ]
        }
      ]
    },
    {
      "cell_type": "code",
      "source": [
        "confusion_matrix(y_test, y_preds)"
      ],
      "metadata": {
        "colab": {
          "base_uri": "https://localhost:8080/"
        },
        "id": "zBz4Fpg1cveS",
        "outputId": "53df2f2c-221b-4c1f-a0f0-8030916b547a"
      },
      "execution_count": null,
      "outputs": [
        {
          "output_type": "execute_result",
          "data": {
            "text/plain": [
              "array([[2022, 1051],\n",
              "       [ 692, 2344]])"
            ]
          },
          "metadata": {},
          "execution_count": 30
        }
      ]
    },
    {
      "cell_type": "code",
      "source": [
        "accuracy_score(y_test, y_preds)"
      ],
      "metadata": {
        "colab": {
          "base_uri": "https://localhost:8080/"
        },
        "id": "Qj7-dtxmc-yi",
        "outputId": "4d8152ac-e62f-4523-f139-c1b8f38e4cbe"
      },
      "execution_count": null,
      "outputs": [
        {
          "output_type": "execute_result",
          "data": {
            "text/plain": [
              "0.7146832542150925"
            ]
          },
          "metadata": {},
          "execution_count": 31
        }
      ]
    },
    {
      "cell_type": "code",
      "source": [
        "import pickle"
      ],
      "metadata": {
        "id": "_vtdySuayJ3h"
      },
      "execution_count": null,
      "outputs": []
    },
    {
      "cell_type": "code",
      "source": [
        "filename = 'model.pkl'\n",
        "with open(filename, 'wb') as file:\n",
        "    pickle.dump(final_model, file)"
      ],
      "metadata": {
        "id": "zDklyVtmhNMN"
      },
      "execution_count": null,
      "outputs": []
    },
    {
      "cell_type": "code",
      "source": [],
      "metadata": {
        "id": "Vhm1sBtXyOTO"
      },
      "execution_count": null,
      "outputs": []
    }
  ],
  "metadata": {
    "colab": {
      "provenance": []
    },
    "kernelspec": {
      "display_name": "Python 3",
      "name": "python3"
    },
    "language_info": {
      "name": "python"
    }
  },
  "nbformat": 4,
  "nbformat_minor": 0
}